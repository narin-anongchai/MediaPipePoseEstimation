{
  "nbformat": 4,
  "nbformat_minor": 0,
  "metadata": {
    "colab": {
      "provenance": [],
      "authorship_tag": "ABX9TyOSjm6qiVQL8+SJ773HFhjF",
      "include_colab_link": true
    },
    "kernelspec": {
      "name": "python3",
      "display_name": "Python 3"
    },
    "language_info": {
      "name": "python"
    }
  },
  "cells": [
    {
      "cell_type": "markdown",
      "metadata": {
        "id": "view-in-github",
        "colab_type": "text"
      },
      "source": [
        "<a href=\"https://colab.research.google.com/github/narin-anongchai/MediaPipePoseEstimation/blob/main/untitled74.ipynb\" target=\"_parent\"><img src=\"https://colab.research.google.com/assets/colab-badge.svg\" alt=\"Open In Colab\"/></a>"
      ]
    },
    {
      "cell_type": "code",
      "execution_count": null,
      "metadata": {
        "colab": {
          "base_uri": "https://localhost:8080/"
        },
        "id": "RPmiVhijOwza",
        "outputId": "5f381e9f-9ca9-4df6-a498-2dd2e6b6f455"
      },
      "outputs": [
        {
          "output_type": "stream",
          "name": "stdout",
          "text": [
            "ป้อนเลขฐาน 10: 10\n",
            "เลขฐาน 2:  1010\n"
          ]
        }
      ],
      "source": [
        "# prompt: โค้ดรับค่าข้อมูลตัวเลข เพื่อหาค่าเลขฐาน2\n",
        "\n",
        "def decimal_to_binary(n):\n",
        "  \"\"\"แปลงเลขฐาน 10 เป็นเลขฐาน 2\"\"\"\n",
        "  return bin(n)[2:]\n",
        "\n",
        "# รับค่าข้อมูลตัวเลขจากผู้ใช้\n",
        "decimal_number = int(input(\"ป้อนเลขฐาน 10: \"))\n",
        "\n",
        "# แปลงเป็นเลขฐาน 2 และแสดงผลลัพธ์\n",
        "binary_number = decimal_to_binary(decimal_number)\n",
        "print(\"เลขฐาน 2: \", binary_number)"
      ]
    }
  ]
}